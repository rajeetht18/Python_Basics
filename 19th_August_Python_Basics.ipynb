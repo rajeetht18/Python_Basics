{
  "nbformat": 4,
  "nbformat_minor": 0,
  "metadata": {
    "colab": {
      "provenance": []
    },
    "kernelspec": {
      "name": "python3",
      "display_name": "Python 3"
    },
    "language_info": {
      "name": "python"
    }
  },
  "cells": [
    {
      "cell_type": "markdown",
      "source": [
        "#Python Basics-4 Assignment\n",
        "TOPIC: Python Basics Variable\n",
        "\n",
        "> **1. Declare two variables, `x` and `y`, and assign them integer values. Swap the values of these variables without using any temporary variable.**"
      ],
      "metadata": {
        "id": "MRZQOpEexYoH"
      }
    },
    {
      "cell_type": "code",
      "source": [
        "# Declare two variables & assign integer values\n",
        "x = 10\n",
        "y = 20"
      ],
      "metadata": {
        "id": "kx4NVU1Pxo66"
      },
      "execution_count": null,
      "outputs": []
    },
    {
      "cell_type": "code",
      "source": [
        "# Swap the values of these variables\n",
        "x, y = y, x"
      ],
      "metadata": {
        "id": "-UYe0CsvyDAt"
      },
      "execution_count": null,
      "outputs": []
    },
    {
      "cell_type": "code",
      "source": [
        "# Print two variables to chcek the results\n",
        "print('x value:',x)\n",
        "print('y value:',y)"
      ],
      "metadata": {
        "colab": {
          "base_uri": "https://localhost:8080/"
        },
        "id": "uBK3XeNKyMGO",
        "outputId": "bd2fc007-6e47-45e9-c89e-9709d50e4dd9"
      },
      "execution_count": null,
      "outputs": [
        {
          "output_type": "stream",
          "name": "stdout",
          "text": [
            "x value: 20\n",
            "y value: 10\n"
          ]
        }
      ]
    },
    {
      "cell_type": "markdown",
      "source": [
        "> **2. Create a program that calculates the area of a rectangle. Take the length and width as inputs from the user and store them in variables. Calculate and display the area.**"
      ],
      "metadata": {
        "id": "0HSc0sRKyoMG"
      }
    },
    {
      "cell_type": "code",
      "source": [
        "# Area of rectangle formula A = Width * Length\n",
        "width = input('Enter the value of width ')\n",
        "length = input('Enter the value of length ')"
      ],
      "metadata": {
        "colab": {
          "base_uri": "https://localhost:8080/"
        },
        "id": "KIgrcjoCy3yQ",
        "outputId": "5cc91a39-9c58-4d91-e108-819498eb94ff"
      },
      "execution_count": null,
      "outputs": [
        {
          "name": "stdout",
          "output_type": "stream",
          "text": [
            "Enter the value of width 20\n",
            "Enter the value of length 10\n"
          ]
        }
      ]
    },
    {
      "cell_type": "code",
      "source": [
        "# Calculate the area using input values\n",
        "area = int(width) * int(length)\n",
        "print('Area of a rectangle value is', area)"
      ],
      "metadata": {
        "colab": {
          "base_uri": "https://localhost:8080/"
        },
        "id": "cORLPl6ez-Hn",
        "outputId": "3cdb47f6-cb69-4bf8-ecc7-e537d88c7222"
      },
      "execution_count": null,
      "outputs": [
        {
          "output_type": "stream",
          "name": "stdout",
          "text": [
            "Area of a rectangle value is 200\n"
          ]
        }
      ]
    },
    {
      "cell_type": "markdown",
      "source": [
        "> **3. Write a Python program that converts temperatures from Celsius to Fahrenheit. Take the temperature in Celsius as input, store it in a variable, convert it to Fahrenheit, and display the result.**"
      ],
      "metadata": {
        "id": "HWUc-kzY0fXC"
      }
    },
    {
      "cell_type": "code",
      "source": [
        "# Celsius to Fahrenheit formula is,\n",
        "# Fahrenheit (°F) = (Temperature in degrees Celsius (°C) * 9/5) + 32\n",
        "\n",
        "# Get Celsius input from users\n",
        "celsius = int(input('Enter celsius value '))"
      ],
      "metadata": {
        "colab": {
          "base_uri": "https://localhost:8080/"
        },
        "id": "rt9OlmH71FX-",
        "outputId": "54116ca7-7a4d-4777-b3cb-634df24d58a2"
      },
      "execution_count": null,
      "outputs": [
        {
          "name": "stdout",
          "output_type": "stream",
          "text": [
            "Enter celsius value 30\n"
          ]
        }
      ]
    },
    {
      "cell_type": "code",
      "source": [
        "# Converts temperatures from Celsius to Fahrenheit.\n",
        "\n",
        "fah = (celsius * 9/5) + 32\n",
        "print('Fahrenheit value is',fah)"
      ],
      "metadata": {
        "colab": {
          "base_uri": "https://localhost:8080/"
        },
        "id": "Q-HMXnDb13te",
        "outputId": "64b7f640-ac07-4aec-8487-db5d781d3fe3"
      },
      "execution_count": null,
      "outputs": [
        {
          "output_type": "stream",
          "name": "stdout",
          "text": [
            "Fahrenheit value is 86.0\n"
          ]
        }
      ]
    },
    {
      "cell_type": "markdown",
      "source": [
        "##TOPIC: String Based Questions\n",
        "\n",
        "> **1. Write a Python program that takes a string as input and prints the length of the string.**"
      ],
      "metadata": {
        "id": "j5hUza032WYi"
      }
    },
    {
      "cell_type": "code",
      "source": [
        "# Get user user input\n",
        "user_input = input('Enter value ')"
      ],
      "metadata": {
        "colab": {
          "base_uri": "https://localhost:8080/"
        },
        "id": "8SysgTKl2nZb",
        "outputId": "8458e833-c9a5-47d9-82d9-9fc093e69d14"
      },
      "execution_count": null,
      "outputs": [
        {
          "name": "stdout",
          "output_type": "stream",
          "text": [
            "Enter value Rajeeth\n"
          ]
        }
      ]
    },
    {
      "cell_type": "code",
      "source": [
        "# length of the string\n",
        "print(len(user_input))"
      ],
      "metadata": {
        "colab": {
          "base_uri": "https://localhost:8080/"
        },
        "id": "6fBKbfQA25ep",
        "outputId": "5bbe4b2f-90d3-4668-f65a-a12f2ce30772"
      },
      "execution_count": null,
      "outputs": [
        {
          "output_type": "stream",
          "name": "stdout",
          "text": [
            "7\n"
          ]
        }
      ]
    },
    {
      "cell_type": "markdown",
      "source": [
        "> **2. Create a program that takes a sentence from the user and counts the number of vowels (a, e, i, o, u) in the string.**"
      ],
      "metadata": {
        "id": "pMhgsplO3PMs"
      }
    },
    {
      "cell_type": "code",
      "source": [
        "# Get user input string\n",
        "user_input = input('Enter the value: ')"
      ],
      "metadata": {
        "colab": {
          "base_uri": "https://localhost:8080/"
        },
        "id": "RV9f8Uof38ju",
        "outputId": "83285e10-3ed3-4fe9-82d4-1e558db31f19"
      },
      "execution_count": 3,
      "outputs": [
        {
          "name": "stdout",
          "output_type": "stream",
          "text": [
            "Enter the value: The upcoming ICC World Cup hosted by India\n"
          ]
        }
      ]
    },
    {
      "cell_type": "code",
      "source": [
        "# Count the no of vowels in the string\n",
        "count_vowels = 0\n",
        "for v in user_input:\n",
        "  if v.lower() in ('a','e','i','o','u'):\n",
        "    count_vowels += 1\n",
        "print('There are',count_vowels,'vowels present in the given input value')"
      ],
      "metadata": {
        "colab": {
          "base_uri": "https://localhost:8080/"
        },
        "id": "adeJ0wIx4EyL",
        "outputId": "79071d18-ba28-4645-abe5-1258e9c4bd0c"
      },
      "execution_count": 5,
      "outputs": [
        {
          "output_type": "stream",
          "name": "stdout",
          "text": [
            "There are 12 vowels present in the given input value\n"
          ]
        }
      ]
    },
    {
      "cell_type": "markdown",
      "source": [
        "> 3. **Given a string, reverse the order of characters using string slicing and print the reversed string.**"
      ],
      "metadata": {
        "id": "j9hshUSeveaF"
      }
    },
    {
      "cell_type": "code",
      "source": [
        "# Get user input string\n",
        "user_input = input('Enter the value: ')\n",
        "# Reverse the order of characters using string slicing\n",
        "print(user_input[::-1])"
      ],
      "metadata": {
        "id": "LFE6wLXj5PnZ",
        "colab": {
          "base_uri": "https://localhost:8080/"
        },
        "outputId": "a08e111e-aefd-446c-8bd6-eadaff23aa38"
      },
      "execution_count": 8,
      "outputs": [
        {
          "output_type": "stream",
          "name": "stdout",
          "text": [
            "Enter the value: data science\n",
            "ecneics atad\n"
          ]
        }
      ]
    },
    {
      "cell_type": "markdown",
      "source": [
        "> **4. Write a program that takes a string as input and checks if it is a palindrome (reads the same forwards and backwards).**"
      ],
      "metadata": {
        "id": "gS8e3PdSwfHS"
      }
    },
    {
      "cell_type": "code",
      "source": [
        "# Get user input string\n",
        "user_input = input('Enter the value: ')\n",
        "# Check whether the value is palindrome or not\n",
        "if user_input and (user_input == user_input[::-1]):\n",
        "  print('The given value is a palindrome')\n",
        "else:\n",
        "  print('The given value is no\\'t a palindrome')\n"
      ],
      "metadata": {
        "colab": {
          "base_uri": "https://localhost:8080/"
        },
        "id": "YUwvCFGYwqO4",
        "outputId": "4f0d01fa-55aa-4122-ee94-e356f015586a"
      },
      "execution_count": 11,
      "outputs": [
        {
          "output_type": "stream",
          "name": "stdout",
          "text": [
            "Enter the value: refer\n",
            "The given value is a palindrome\n"
          ]
        }
      ]
    },
    {
      "cell_type": "markdown",
      "source": [
        "> **5. Create a program that takes a string as input and removes all the spaces from it. Print the modified string without spaces.**"
      ],
      "metadata": {
        "id": "CJ23Vqpdyf7I"
      }
    },
    {
      "cell_type": "code",
      "source": [
        "# Get user input string\n",
        "user_input = input('Enter the value: ')\n",
        "# Remove all the spaces in string\n",
        "result = user_input.replace(' ','')\n",
        "print('After removing all the spaces in given valaue:',result)"
      ],
      "metadata": {
        "colab": {
          "base_uri": "https://localhost:8080/"
        },
        "id": "HKwg0fBRyqe8",
        "outputId": "5e11fd8c-ba85-4ea7-e0af-071c7afdceab"
      },
      "execution_count": 15,
      "outputs": [
        {
          "output_type": "stream",
          "name": "stdout",
          "text": [
            "Enter the value: Print the modified string without spaces.\n",
            "After removing all the spaces in given valaue: Printthemodifiedstringwithoutspaces.\n"
          ]
        }
      ]
    }
  ]
}